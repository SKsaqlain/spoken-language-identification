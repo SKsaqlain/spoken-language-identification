{
  "nbformat": 4,
  "nbformat_minor": 0,
  "metadata": {
    "colab": {
      "name": "tdl_predict.ipynb",
      "provenance": [],
      "collapsed_sections": []
    },
    "kernelspec": {
      "name": "python3",
      "display_name": "Python 3"
    },
    "accelerator": "GPU"
  },
  "cells": [
    {
      "cell_type": "code",
      "metadata": {
        "id": "dy8gNs4djJNr",
        "colab": {
          "base_uri": "https://localhost:8080/",
          "height": 196
        },
        "outputId": "99f6b1b2-2d7f-4110-980e-258c89b235cf"
      },
      "source": [
        "!pip install soundfile\n",
        "import os\n",
        "import numpy as np\n",
        "import pandas as pd\n",
        "import scipy.signal as signal\n",
        "import soundfile as sf\n",
        "import matplotlib.pyplot as plt\n",
        "import IPython.display as ipd \n",
        "from sklearn.model_selection import train_test_split\n",
        "from sklearn.preprocessing import StandardScaler\n",
        "import tensorflow as tf"
      ],
      "execution_count": null,
      "outputs": [
        {
          "output_type": "stream",
          "text": [
            "Collecting soundfile\n",
            "  Downloading https://files.pythonhosted.org/packages/eb/f2/3cbbbf3b96fb9fa91582c438b574cff3f45b29c772f94c400e2c99ef5db9/SoundFile-0.10.3.post1-py2.py3-none-any.whl\n",
            "Requirement already satisfied: cffi>=1.0 in /usr/local/lib/python3.6/dist-packages (from soundfile) (1.13.2)\n",
            "Requirement already satisfied: pycparser in /usr/local/lib/python3.6/dist-packages (from cffi>=1.0->soundfile) (2.19)\n",
            "Installing collected packages: soundfile\n",
            "Successfully installed soundfile-0.10.3.post1\n"
          ],
          "name": "stdout"
        },
        {
          "output_type": "display_data",
          "data": {
            "text/html": [
              "<p style=\"color: red;\">\n",
              "The default version of TensorFlow in Colab will soon switch to TensorFlow 2.x.<br>\n",
              "We recommend you <a href=\"https://www.tensorflow.org/guide/migrate\" target=\"_blank\">upgrade</a> now \n",
              "or ensure your notebook will continue to use TensorFlow 1.x via the <code>%tensorflow_version 1.x</code> magic:\n",
              "<a href=\"https://colab.research.google.com/notebooks/tensorflow_version.ipynb\" target=\"_blank\">more info</a>.</p>\n"
            ],
            "text/plain": [
              "<IPython.core.display.HTML object>"
            ]
          },
          "metadata": {
            "tags": []
          }
        }
      ]
    },
    {
      "cell_type": "code",
      "metadata": {
        "id": "qz9tmI5NjWJM",
        "colab": {
          "base_uri": "https://localhost:8080/",
          "height": 130
        },
        "outputId": "2e552bfb-022f-4e3c-c5e9-5d614b03758c"
      },
      "source": [
        "\n",
        "from google.colab import drive\n",
        "drive.mount('/content/drive')"
      ],
      "execution_count": null,
      "outputs": [
        {
          "output_type": "stream",
          "text": [
            "Go to this URL in a browser: https://accounts.google.com/o/oauth2/auth?client_id=947318989803-6bn6qk8qdgf4n4g3pfee6491hc0brc4i.apps.googleusercontent.com&redirect_uri=urn%3aietf%3awg%3aoauth%3a2.0%3aoob&response_type=code&scope=email%20https%3a%2f%2fwww.googleapis.com%2fauth%2fdocs.test%20https%3a%2f%2fwww.googleapis.com%2fauth%2fdrive%20https%3a%2f%2fwww.googleapis.com%2fauth%2fdrive.photos.readonly%20https%3a%2f%2fwww.googleapis.com%2fauth%2fpeopleapi.readonly\n",
            "\n",
            "Enter your authorization code:\n",
            "··········\n",
            "Mounted at /content/drive\n"
          ],
          "name": "stdout"
        }
      ]
    },
    {
      "cell_type": "code",
      "metadata": {
        "id": "nQdXNOxcjn5u",
        "colab": {
          "base_uri": "https://localhost:8080/",
          "height": 36
        },
        "outputId": "1f56ea9e-dbc8-40c4-b2bc-b8bd7c4cde5f"
      },
      "source": [
        "device_name = tf.test.gpu_device_name()\n",
        "print('Found GPU at: {}'.format(device_name))"
      ],
      "execution_count": null,
      "outputs": [
        {
          "output_type": "stream",
          "text": [
            "Found GPU at: /device:GPU:0\n"
          ],
          "name": "stdout"
        }
      ]
    },
    {
      "cell_type": "code",
      "metadata": {
        "id": "bMBAoxYbk0wc"
      },
      "source": [
        "MFCC_array = np.load('/content/drive/My Drive/TDL_DATASET/MFCC_data_large.npy').astype(np.float32)"
      ],
      "execution_count": null,
      "outputs": []
    },
    {
      "cell_type": "code",
      "metadata": {
        "id": "p2PM4G9ClwOh"
      },
      "source": [
        "language_dummies = np.load('/content/drive/My Drive/TDL_DATASET/language_dummy_large.npy').astype(np.float32)"
      ],
      "execution_count": null,
      "outputs": []
    },
    {
      "cell_type": "code",
      "metadata": {
        "id": "fSh65pTPmipk"
      },
      "source": [
        "X_train_tf,X_test_tf,y_train_tf,y_test_tf = train_test_split(\n",
        "    MFCC_array,language_dummies,stratify = language_dummies,test_size = 0.10,random_state = 0)"
      ],
      "execution_count": null,
      "outputs": []
    },
    {
      "cell_type": "code",
      "metadata": {
        "id": "0GtpOdPvmpXY"
      },
      "source": [
        "X_train_tf = X_train_tf.reshape(-1,1000,40,1)"
      ],
      "execution_count": null,
      "outputs": []
    },
    {
      "cell_type": "code",
      "metadata": {
        "id": "zO5LUrNBmsWY"
      },
      "source": [
        "X_test_tf = X_test_tf.reshape(-1,1000,40,1)"
      ],
      "execution_count": null,
      "outputs": []
    },
    {
      "cell_type": "code",
      "metadata": {
        "id": "9SBko3PzmvMp",
        "colab": {
          "base_uri": "https://localhost:8080/",
          "height": 36
        },
        "outputId": "d3c116e7-dfda-4b88-945f-8d0cab451131"
      },
      "source": [
        "from sklearn import preprocessing\n",
        "from sklearn.metrics import classification_report,confusion_matrix\n",
        "\n",
        "from keras.models import Model, load_model, Sequential\n",
        "from keras.layers import Conv2D, MaxPooling2D, AveragePooling2D, Dense, Flatten\n",
        "from keras.layers import Dropout, Input, Activation\n",
        "from keras.optimizers import Nadam, SGD, Adam\n",
        "from keras.preprocessing.image import ImageDataGenerator\n",
        "from keras.utils import np_utils\n",
        "from keras.callbacks import EarlyStopping, TensorBoard, ModelCheckpoint\n",
        "from keras.models import load_model\n",
        "from keras.layers.normalization import BatchNormalization\n",
        "from keras import regularizers"
      ],
      "execution_count": null,
      "outputs": [
        {
          "output_type": "stream",
          "text": [
            "Using TensorFlow backend.\n"
          ],
          "name": "stderr"
        }
      ]
    },
    {
      "cell_type": "code",
      "metadata": {
        "id": "QV61Jierm-9q",
        "colab": {
          "base_uri": "https://localhost:8080/",
          "height": 650
        },
        "outputId": "0d35b55d-385f-4305-d0c9-bdf9cbed6fba"
      },
      "source": [
        "input_shape = (1000,40,1)\n",
        "model = Sequential()\n",
        "model.add(Conv2D(\n",
        "        32,\n",
        "        (3, 3),\n",
        "        strides=(1, 1),\n",
        "        padding='same',\n",
        "        #kernel_regularizer=regularizers.l2(0.001),\n",
        "        input_shape=input_shape,data_format = 'channels_last'))\n",
        "model.add(Activation('relu'))\n",
        "model.add(BatchNormalization())\n",
        "model.add(MaxPooling2D(pool_size=(3, 3), strides=(2, 2), padding='same'))\n",
        "model.add(Conv2D(\n",
        "        64,\n",
        "        (3, 3),\n",
        "        strides=(1, 1),\n",
        "        padding='same'))\n",
        "        #kernel_regularizer=regularizers.l2(0.001)))\n",
        "model.add(Activation('relu'))\n",
        "model.add(BatchNormalization())\n",
        "model.add(MaxPooling2D(pool_size=(3, 3), strides=(2, 2), padding='same'))\n",
        "model.add(AveragePooling2D(\n",
        "        pool_size=(3, 3),\n",
        "        strides=(2, 2),\n",
        "        padding='same'))\n",
        "model.add(Flatten())\n",
        "\n",
        "model.add(Dense(\n",
        "        128,\n",
        "        activation='relu'))\n",
        "       # kernel_regularizer=regularizers.l2(0.001)))\n",
        "\n",
        "model.add(Dropout(0.4))\n",
        "model.add(BatchNormalization())\n",
        "model.add(Dense(3))\n",
        "model.add(Activation('softmax'))\n",
        "\n",
        "\n",
        "model.compile(\n",
        "        loss='categorical_crossentropy',\n",
        "        optimizer='Adadelta',\n",
        "        metrics=['accuracy'])"
      ],
      "execution_count": null,
      "outputs": [
        {
          "output_type": "stream",
          "text": [
            "WARNING:tensorflow:From /usr/local/lib/python3.6/dist-packages/keras/backend/tensorflow_backend.py:66: The name tf.get_default_graph is deprecated. Please use tf.compat.v1.get_default_graph instead.\n",
            "\n",
            "WARNING:tensorflow:From /usr/local/lib/python3.6/dist-packages/keras/backend/tensorflow_backend.py:541: The name tf.placeholder is deprecated. Please use tf.compat.v1.placeholder instead.\n",
            "\n",
            "WARNING:tensorflow:From /usr/local/lib/python3.6/dist-packages/keras/backend/tensorflow_backend.py:4432: The name tf.random_uniform is deprecated. Please use tf.random.uniform instead.\n",
            "\n",
            "WARNING:tensorflow:From /usr/local/lib/python3.6/dist-packages/keras/backend/tensorflow_backend.py:190: The name tf.get_default_session is deprecated. Please use tf.compat.v1.get_default_session instead.\n",
            "\n",
            "WARNING:tensorflow:From /usr/local/lib/python3.6/dist-packages/keras/backend/tensorflow_backend.py:197: The name tf.ConfigProto is deprecated. Please use tf.compat.v1.ConfigProto instead.\n",
            "\n",
            "WARNING:tensorflow:From /usr/local/lib/python3.6/dist-packages/keras/backend/tensorflow_backend.py:203: The name tf.Session is deprecated. Please use tf.compat.v1.Session instead.\n",
            "\n",
            "WARNING:tensorflow:From /usr/local/lib/python3.6/dist-packages/keras/backend/tensorflow_backend.py:207: The name tf.global_variables is deprecated. Please use tf.compat.v1.global_variables instead.\n",
            "\n",
            "WARNING:tensorflow:From /usr/local/lib/python3.6/dist-packages/keras/backend/tensorflow_backend.py:216: The name tf.is_variable_initialized is deprecated. Please use tf.compat.v1.is_variable_initialized instead.\n",
            "\n",
            "WARNING:tensorflow:From /usr/local/lib/python3.6/dist-packages/keras/backend/tensorflow_backend.py:223: The name tf.variables_initializer is deprecated. Please use tf.compat.v1.variables_initializer instead.\n",
            "\n",
            "WARNING:tensorflow:From /usr/local/lib/python3.6/dist-packages/keras/backend/tensorflow_backend.py:2041: The name tf.nn.fused_batch_norm is deprecated. Please use tf.compat.v1.nn.fused_batch_norm instead.\n",
            "\n",
            "WARNING:tensorflow:From /usr/local/lib/python3.6/dist-packages/keras/backend/tensorflow_backend.py:148: The name tf.placeholder_with_default is deprecated. Please use tf.compat.v1.placeholder_with_default instead.\n",
            "\n",
            "WARNING:tensorflow:From /usr/local/lib/python3.6/dist-packages/keras/backend/tensorflow_backend.py:4267: The name tf.nn.max_pool is deprecated. Please use tf.nn.max_pool2d instead.\n",
            "\n",
            "WARNING:tensorflow:From /usr/local/lib/python3.6/dist-packages/keras/backend/tensorflow_backend.py:4271: The name tf.nn.avg_pool is deprecated. Please use tf.nn.avg_pool2d instead.\n",
            "\n",
            "WARNING:tensorflow:From /usr/local/lib/python3.6/dist-packages/keras/backend/tensorflow_backend.py:3733: calling dropout (from tensorflow.python.ops.nn_ops) with keep_prob is deprecated and will be removed in a future version.\n",
            "Instructions for updating:\n",
            "Please use `rate` instead of `keep_prob`. Rate should be set to `rate = 1 - keep_prob`.\n",
            "WARNING:tensorflow:From /usr/local/lib/python3.6/dist-packages/keras/optimizers.py:793: The name tf.train.Optimizer is deprecated. Please use tf.compat.v1.train.Optimizer instead.\n",
            "\n",
            "WARNING:tensorflow:From /usr/local/lib/python3.6/dist-packages/keras/backend/tensorflow_backend.py:3576: The name tf.log is deprecated. Please use tf.math.log instead.\n",
            "\n"
          ],
          "name": "stdout"
        }
      ]
    },
    {
      "cell_type": "code",
      "metadata": {
        "id": "Agjgi31FnmrL",
        "colab": {
          "base_uri": "https://localhost:8080/",
          "height": 1000
        },
        "outputId": "ccd25d01-30ca-40cf-fe35-dfb77b9d1ee8"
      },
      "source": [
        "checkpoint = ModelCheckpoint(\n",
        "                'model.h5',\n",
        "                monitor='val_loss',\n",
        "                verbose=0,\n",
        "                save_best_only=True,\n",
        "                mode='min')\n",
        "#es = EarlyStopping(monitor='val_loss',mode = 'max')\n",
        "model.fit(\n",
        "                X_train_tf,\n",
        "                y_train_tf,\n",
        "                epochs=100,\n",
        "                callbacks=[checkpoint],\n",
        "                verbose=1,\n",
        "                validation_data=(X_test_tf, y_test_tf),\n",
        "                batch_size=32)"
      ],
      "execution_count": null,
      "outputs": [
        {
          "output_type": "stream",
          "text": [
            "WARNING:tensorflow:From /usr/local/lib/python3.6/dist-packages/tensorflow_core/python/ops/math_grad.py:1424: where (from tensorflow.python.ops.array_ops) is deprecated and will be removed in a future version.\n",
            "Instructions for updating:\n",
            "Use tf.where in 2.0, which has the same broadcast rule as np.where\n",
            "WARNING:tensorflow:From /usr/local/lib/python3.6/dist-packages/keras/backend/tensorflow_backend.py:1033: The name tf.assign_add is deprecated. Please use tf.compat.v1.assign_add instead.\n",
            "\n",
            "WARNING:tensorflow:From /usr/local/lib/python3.6/dist-packages/keras/backend/tensorflow_backend.py:1020: The name tf.assign is deprecated. Please use tf.compat.v1.assign instead.\n",
            "\n",
            "Train on 3288 samples, validate on 366 samples\n",
            "Epoch 1/100\n",
            "3288/3288 [==============================] - 8s 2ms/step - loss: 1.2317 - acc: 0.4097 - val_loss: 1.0661 - val_acc: 0.4563\n",
            "Epoch 2/100\n",
            "3288/3288 [==============================] - 4s 1ms/step - loss: 0.9587 - acc: 0.5484 - val_loss: 1.1350 - val_acc: 0.4180\n",
            "Epoch 3/100\n",
            "3288/3288 [==============================] - 4s 1ms/step - loss: 0.8072 - acc: 0.6481 - val_loss: 0.9488 - val_acc: 0.5273\n",
            "Epoch 4/100\n",
            "3288/3288 [==============================] - 4s 1ms/step - loss: 0.6587 - acc: 0.7281 - val_loss: 1.0443 - val_acc: 0.4590\n",
            "Epoch 5/100\n",
            "3288/3288 [==============================] - 4s 1ms/step - loss: 0.5509 - acc: 0.7874 - val_loss: 0.7975 - val_acc: 0.6721\n",
            "Epoch 6/100\n",
            "3288/3288 [==============================] - 4s 1ms/step - loss: 0.4048 - acc: 0.8495 - val_loss: 0.9470 - val_acc: 0.6120\n",
            "Epoch 7/100\n",
            "3288/3288 [==============================] - 4s 1ms/step - loss: 0.3056 - acc: 0.8939 - val_loss: 0.6852 - val_acc: 0.7049\n",
            "Epoch 8/100\n",
            "3288/3288 [==============================] - 4s 1ms/step - loss: 0.2345 - acc: 0.9206 - val_loss: 0.8620 - val_acc: 0.6721\n",
            "Epoch 9/100\n",
            "3288/3288 [==============================] - 4s 1ms/step - loss: 0.1692 - acc: 0.9486 - val_loss: 0.5307 - val_acc: 0.7923\n",
            "Epoch 10/100\n",
            "3288/3288 [==============================] - 4s 1ms/step - loss: 0.1400 - acc: 0.9577 - val_loss: 0.9768 - val_acc: 0.6721\n",
            "Epoch 11/100\n",
            "3288/3288 [==============================] - 4s 1ms/step - loss: 0.0990 - acc: 0.9735 - val_loss: 0.9490 - val_acc: 0.6885\n",
            "Epoch 12/100\n",
            "3288/3288 [==============================] - 4s 1ms/step - loss: 0.0754 - acc: 0.9793 - val_loss: 0.6686 - val_acc: 0.7705\n",
            "Epoch 13/100\n",
            "3288/3288 [==============================] - 4s 1ms/step - loss: 0.0731 - acc: 0.9796 - val_loss: 0.6984 - val_acc: 0.7432\n",
            "Epoch 14/100\n",
            "3288/3288 [==============================] - 4s 1ms/step - loss: 0.0650 - acc: 0.9778 - val_loss: 0.9081 - val_acc: 0.7268\n",
            "Epoch 15/100\n",
            "3288/3288 [==============================] - 4s 1ms/step - loss: 0.0729 - acc: 0.9775 - val_loss: 0.6807 - val_acc: 0.7760\n",
            "Epoch 16/100\n",
            "3288/3288 [==============================] - 4s 1ms/step - loss: 0.0551 - acc: 0.9854 - val_loss: 0.9997 - val_acc: 0.6858\n",
            "Epoch 17/100\n",
            "3288/3288 [==============================] - 4s 1ms/step - loss: 0.0495 - acc: 0.9872 - val_loss: 0.7469 - val_acc: 0.7650\n",
            "Epoch 18/100\n",
            "3288/3288 [==============================] - 4s 1ms/step - loss: 0.0584 - acc: 0.9818 - val_loss: 0.8877 - val_acc: 0.7541\n",
            "Epoch 19/100\n",
            "3288/3288 [==============================] - 4s 1ms/step - loss: 0.0449 - acc: 0.9854 - val_loss: 0.9724 - val_acc: 0.7350\n",
            "Epoch 20/100\n",
            "3288/3288 [==============================] - 4s 1ms/step - loss: 0.0342 - acc: 0.9912 - val_loss: 0.6993 - val_acc: 0.7842\n",
            "Epoch 21/100\n",
            "3288/3288 [==============================] - 4s 1ms/step - loss: 0.0380 - acc: 0.9872 - val_loss: 0.8103 - val_acc: 0.7705\n",
            "Epoch 22/100\n",
            "3288/3288 [==============================] - 4s 1ms/step - loss: 0.0340 - acc: 0.9894 - val_loss: 1.0118 - val_acc: 0.7568\n",
            "Epoch 23/100\n",
            "3288/3288 [==============================] - 4s 1ms/step - loss: 0.0327 - acc: 0.9866 - val_loss: 0.9784 - val_acc: 0.7787\n",
            "Epoch 24/100\n",
            "3288/3288 [==============================] - 4s 1ms/step - loss: 0.0310 - acc: 0.9900 - val_loss: 0.7568 - val_acc: 0.7787\n",
            "Epoch 25/100\n",
            "3288/3288 [==============================] - 4s 1ms/step - loss: 0.0275 - acc: 0.9930 - val_loss: 0.8559 - val_acc: 0.7678\n",
            "Epoch 26/100\n",
            "3288/3288 [==============================] - 4s 1ms/step - loss: 0.0311 - acc: 0.9884 - val_loss: 0.8963 - val_acc: 0.7842\n",
            "Epoch 27/100\n",
            "3288/3288 [==============================] - 4s 1ms/step - loss: 0.0295 - acc: 0.9903 - val_loss: 0.6611 - val_acc: 0.8060\n",
            "Epoch 28/100\n",
            "3288/3288 [==============================] - 4s 1ms/step - loss: 0.0258 - acc: 0.9915 - val_loss: 0.5934 - val_acc: 0.8087\n",
            "Epoch 29/100\n",
            "3288/3288 [==============================] - 4s 1ms/step - loss: 0.0217 - acc: 0.9915 - val_loss: 0.6402 - val_acc: 0.8033\n",
            "Epoch 30/100\n",
            "3288/3288 [==============================] - 4s 1ms/step - loss: 0.0267 - acc: 0.9912 - val_loss: 0.6975 - val_acc: 0.7896\n",
            "Epoch 31/100\n",
            "3288/3288 [==============================] - 4s 1ms/step - loss: 0.0191 - acc: 0.9942 - val_loss: 0.6080 - val_acc: 0.8388\n",
            "Epoch 32/100\n",
            "3288/3288 [==============================] - 4s 1ms/step - loss: 0.0158 - acc: 0.9960 - val_loss: 0.6307 - val_acc: 0.8115\n",
            "Epoch 33/100\n",
            "3288/3288 [==============================] - 4s 1ms/step - loss: 0.0181 - acc: 0.9951 - val_loss: 0.9048 - val_acc: 0.8005\n",
            "Epoch 34/100\n",
            "3288/3288 [==============================] - 4s 1ms/step - loss: 0.0166 - acc: 0.9957 - val_loss: 0.7557 - val_acc: 0.8169\n",
            "Epoch 35/100\n",
            "3288/3288 [==============================] - 4s 1ms/step - loss: 0.0161 - acc: 0.9960 - val_loss: 0.7848 - val_acc: 0.7814\n",
            "Epoch 36/100\n",
            "3288/3288 [==============================] - 4s 1ms/step - loss: 0.0168 - acc: 0.9948 - val_loss: 0.9692 - val_acc: 0.7760\n",
            "Epoch 37/100\n",
            "3288/3288 [==============================] - 4s 1ms/step - loss: 0.0197 - acc: 0.9945 - val_loss: 1.1548 - val_acc: 0.7404\n",
            "Epoch 38/100\n",
            "3288/3288 [==============================] - 4s 1ms/step - loss: 0.0145 - acc: 0.9957 - val_loss: 1.4222 - val_acc: 0.7049\n",
            "Epoch 39/100\n",
            "3288/3288 [==============================] - 4s 1ms/step - loss: 0.0183 - acc: 0.9942 - val_loss: 1.0398 - val_acc: 0.7705\n",
            "Epoch 40/100\n",
            "3288/3288 [==============================] - 4s 1ms/step - loss: 0.0107 - acc: 0.9964 - val_loss: 0.8131 - val_acc: 0.7732\n",
            "Epoch 41/100\n",
            "3288/3288 [==============================] - 4s 1ms/step - loss: 0.0145 - acc: 0.9957 - val_loss: 1.0488 - val_acc: 0.7596\n",
            "Epoch 42/100\n",
            "3288/3288 [==============================] - 4s 1ms/step - loss: 0.0169 - acc: 0.9945 - val_loss: 0.8304 - val_acc: 0.7951\n",
            "Epoch 43/100\n",
            "3288/3288 [==============================] - 4s 1ms/step - loss: 0.0146 - acc: 0.9957 - val_loss: 1.2756 - val_acc: 0.7432\n",
            "Epoch 44/100\n",
            "3288/3288 [==============================] - 4s 1ms/step - loss: 0.0157 - acc: 0.9936 - val_loss: 1.0103 - val_acc: 0.7842\n",
            "Epoch 45/100\n",
            "3288/3288 [==============================] - 4s 1ms/step - loss: 0.0108 - acc: 0.9957 - val_loss: 0.8989 - val_acc: 0.7842\n",
            "Epoch 46/100\n",
            "3288/3288 [==============================] - 4s 1ms/step - loss: 0.0182 - acc: 0.9930 - val_loss: 2.4122 - val_acc: 0.6038\n",
            "Epoch 47/100\n",
            "3288/3288 [==============================] - 4s 1ms/step - loss: 0.0156 - acc: 0.9945 - val_loss: 1.0385 - val_acc: 0.7650\n",
            "Epoch 48/100\n",
            "3288/3288 [==============================] - 4s 1ms/step - loss: 0.0156 - acc: 0.9957 - val_loss: 0.8658 - val_acc: 0.8115\n",
            "Epoch 49/100\n",
            "3288/3288 [==============================] - 4s 1ms/step - loss: 0.0133 - acc: 0.9960 - val_loss: 1.2140 - val_acc: 0.7787\n",
            "Epoch 50/100\n",
            "3288/3288 [==============================] - 4s 1ms/step - loss: 0.0208 - acc: 0.9927 - val_loss: 0.9961 - val_acc: 0.8005\n",
            "Epoch 51/100\n",
            "3288/3288 [==============================] - 4s 1ms/step - loss: 0.0093 - acc: 0.9970 - val_loss: 1.1433 - val_acc: 0.7923\n",
            "Epoch 52/100\n",
            "3288/3288 [==============================] - 4s 1ms/step - loss: 0.0184 - acc: 0.9936 - val_loss: 0.9539 - val_acc: 0.7814\n",
            "Epoch 53/100\n",
            "3288/3288 [==============================] - 4s 1ms/step - loss: 0.0179 - acc: 0.9936 - val_loss: 1.1363 - val_acc: 0.7514\n",
            "Epoch 54/100\n",
            "3288/3288 [==============================] - 4s 1ms/step - loss: 0.0078 - acc: 0.9979 - val_loss: 1.1185 - val_acc: 0.7787\n",
            "Epoch 55/100\n",
            "3288/3288 [==============================] - 4s 1ms/step - loss: 0.0144 - acc: 0.9939 - val_loss: 1.1412 - val_acc: 0.7596\n",
            "Epoch 56/100\n",
            "3288/3288 [==============================] - 4s 1ms/step - loss: 0.0096 - acc: 0.9976 - val_loss: 1.3227 - val_acc: 0.7459\n",
            "Epoch 57/100\n",
            "3288/3288 [==============================] - 4s 1ms/step - loss: 0.0138 - acc: 0.9964 - val_loss: 1.0891 - val_acc: 0.7951\n",
            "Epoch 58/100\n",
            "3288/3288 [==============================] - 4s 1ms/step - loss: 0.0120 - acc: 0.9970 - val_loss: 0.9691 - val_acc: 0.7842\n",
            "Epoch 59/100\n",
            "3288/3288 [==============================] - 4s 1ms/step - loss: 0.0167 - acc: 0.9951 - val_loss: 1.2118 - val_acc: 0.7377\n",
            "Epoch 60/100\n",
            "3288/3288 [==============================] - 4s 1ms/step - loss: 0.0128 - acc: 0.9951 - val_loss: 0.8977 - val_acc: 0.8033\n",
            "Epoch 61/100\n",
            "3288/3288 [==============================] - 4s 1ms/step - loss: 0.0185 - acc: 0.9927 - val_loss: 1.0787 - val_acc: 0.7678\n",
            "Epoch 62/100\n",
            "3288/3288 [==============================] - 4s 1ms/step - loss: 0.0254 - acc: 0.9930 - val_loss: 0.7735 - val_acc: 0.8115\n",
            "Epoch 63/100\n",
            "3288/3288 [==============================] - 4s 1ms/step - loss: 0.0102 - acc: 0.9957 - val_loss: 1.0997 - val_acc: 0.7896\n",
            "Epoch 64/100\n",
            "3288/3288 [==============================] - 4s 1ms/step - loss: 0.0222 - acc: 0.9918 - val_loss: 0.8714 - val_acc: 0.8115\n",
            "Epoch 65/100\n",
            "3288/3288 [==============================] - 4s 1ms/step - loss: 0.0148 - acc: 0.9954 - val_loss: 0.8583 - val_acc: 0.8087\n",
            "Epoch 66/100\n",
            "3288/3288 [==============================] - 4s 1ms/step - loss: 0.0127 - acc: 0.9951 - val_loss: 0.9438 - val_acc: 0.8142\n",
            "Epoch 67/100\n",
            "3288/3288 [==============================] - 4s 1ms/step - loss: 0.0265 - acc: 0.9915 - val_loss: 0.9833 - val_acc: 0.7732\n",
            "Epoch 68/100\n",
            "3288/3288 [==============================] - 4s 1ms/step - loss: 0.0179 - acc: 0.9939 - val_loss: 1.0952 - val_acc: 0.7896\n",
            "Epoch 69/100\n",
            "3288/3288 [==============================] - 4s 1ms/step - loss: 0.0181 - acc: 0.9936 - val_loss: 1.0038 - val_acc: 0.7978\n",
            "Epoch 70/100\n",
            "3288/3288 [==============================] - 4s 1ms/step - loss: 0.0168 - acc: 0.9951 - val_loss: 1.1792 - val_acc: 0.7760\n",
            "Epoch 71/100\n",
            "3288/3288 [==============================] - 4s 1ms/step - loss: 0.0160 - acc: 0.9945 - val_loss: 0.8402 - val_acc: 0.8279\n",
            "Epoch 72/100\n",
            "3288/3288 [==============================] - 4s 1ms/step - loss: 0.0184 - acc: 0.9945 - val_loss: 0.9108 - val_acc: 0.8142\n",
            "Epoch 73/100\n",
            "3288/3288 [==============================] - 4s 1ms/step - loss: 0.0086 - acc: 0.9973 - val_loss: 1.0658 - val_acc: 0.7923\n",
            "Epoch 74/100\n",
            "3288/3288 [==============================] - 4s 1ms/step - loss: 0.0114 - acc: 0.9970 - val_loss: 1.3424 - val_acc: 0.7732\n",
            "Epoch 75/100\n",
            "3288/3288 [==============================] - 4s 1ms/step - loss: 0.0128 - acc: 0.9954 - val_loss: 0.9579 - val_acc: 0.7978\n",
            "Epoch 76/100\n",
            "3288/3288 [==============================] - 4s 1ms/step - loss: 0.0149 - acc: 0.9948 - val_loss: 0.9531 - val_acc: 0.8005\n",
            "Epoch 77/100\n",
            "3288/3288 [==============================] - 4s 1ms/step - loss: 0.0158 - acc: 0.9942 - val_loss: 1.1967 - val_acc: 0.7732\n",
            "Epoch 78/100\n",
            "3288/3288 [==============================] - 4s 1ms/step - loss: 0.0124 - acc: 0.9967 - val_loss: 1.1604 - val_acc: 0.8033\n",
            "Epoch 79/100\n",
            "3288/3288 [==============================] - 4s 1ms/step - loss: 0.0209 - acc: 0.9936 - val_loss: 0.8206 - val_acc: 0.8306\n",
            "Epoch 80/100\n",
            "3288/3288 [==============================] - 4s 1ms/step - loss: 0.0084 - acc: 0.9976 - val_loss: 0.8700 - val_acc: 0.8142\n",
            "Epoch 81/100\n",
            "3288/3288 [==============================] - 4s 1ms/step - loss: 0.0129 - acc: 0.9964 - val_loss: 1.2987 - val_acc: 0.7131\n",
            "Epoch 82/100\n",
            "3288/3288 [==============================] - 4s 1ms/step - loss: 0.0141 - acc: 0.9951 - val_loss: 1.9733 - val_acc: 0.6721\n",
            "Epoch 83/100\n",
            "3288/3288 [==============================] - 4s 1ms/step - loss: 0.0114 - acc: 0.9964 - val_loss: 1.2001 - val_acc: 0.7678\n",
            "Epoch 84/100\n",
            "3288/3288 [==============================] - 4s 1ms/step - loss: 0.0156 - acc: 0.9948 - val_loss: 1.0143 - val_acc: 0.7978\n",
            "Epoch 85/100\n",
            "3288/3288 [==============================] - 4s 1ms/step - loss: 0.0091 - acc: 0.9979 - val_loss: 1.2430 - val_acc: 0.7842\n",
            "Epoch 86/100\n",
            "3288/3288 [==============================] - 4s 1ms/step - loss: 0.0106 - acc: 0.9973 - val_loss: 0.9969 - val_acc: 0.8005\n",
            "Epoch 87/100\n",
            "3288/3288 [==============================] - 4s 1ms/step - loss: 0.0117 - acc: 0.9960 - val_loss: 0.8857 - val_acc: 0.8033\n",
            "Epoch 88/100\n",
            "3288/3288 [==============================] - 4s 1ms/step - loss: 0.0095 - acc: 0.9976 - val_loss: 1.0739 - val_acc: 0.7869\n",
            "Epoch 89/100\n",
            "3288/3288 [==============================] - 4s 1ms/step - loss: 0.0100 - acc: 0.9960 - val_loss: 1.1687 - val_acc: 0.8033\n",
            "Epoch 90/100\n",
            "3288/3288 [==============================] - 4s 1ms/step - loss: 0.0223 - acc: 0.9924 - val_loss: 1.0254 - val_acc: 0.8142\n",
            "Epoch 91/100\n",
            "3288/3288 [==============================] - 4s 1ms/step - loss: 0.0118 - acc: 0.9954 - val_loss: 1.2136 - val_acc: 0.7760\n",
            "Epoch 92/100\n",
            "3288/3288 [==============================] - 4s 1ms/step - loss: 0.0206 - acc: 0.9912 - val_loss: 1.4233 - val_acc: 0.7432\n",
            "Epoch 93/100\n",
            "3288/3288 [==============================] - 4s 1ms/step - loss: 0.0092 - acc: 0.9973 - val_loss: 0.8201 - val_acc: 0.8197\n",
            "Epoch 94/100\n",
            "3288/3288 [==============================] - 4s 1ms/step - loss: 0.0089 - acc: 0.9976 - val_loss: 0.8314 - val_acc: 0.8087\n",
            "Epoch 95/100\n",
            "3288/3288 [==============================] - 4s 1ms/step - loss: 0.0124 - acc: 0.9951 - val_loss: 0.9020 - val_acc: 0.8005\n",
            "Epoch 96/100\n",
            "3288/3288 [==============================] - 4s 1ms/step - loss: 0.0114 - acc: 0.9960 - val_loss: 1.0427 - val_acc: 0.7978\n",
            "Epoch 97/100\n",
            "3288/3288 [==============================] - 4s 1ms/step - loss: 0.0131 - acc: 0.9954 - val_loss: 1.0868 - val_acc: 0.7869\n",
            "Epoch 98/100\n",
            "3288/3288 [==============================] - 4s 1ms/step - loss: 0.0205 - acc: 0.9936 - val_loss: 1.3389 - val_acc: 0.7514\n",
            "Epoch 99/100\n",
            "3288/3288 [==============================] - 4s 1ms/step - loss: 0.0131 - acc: 0.9954 - val_loss: 0.9496 - val_acc: 0.7842\n",
            "Epoch 100/100\n",
            "3288/3288 [==============================] - 4s 1ms/step - loss: 0.0092 - acc: 0.9957 - val_loss: 1.4078 - val_acc: 0.7295\n"
          ],
          "name": "stdout"
        },
        {
          "output_type": "execute_result",
          "data": {
            "text/plain": [
              "<keras.callbacks.History at 0x7f34081a87f0>"
            ]
          },
          "metadata": {
            "tags": []
          },
          "execution_count": 14
        }
      ]
    },
    {
      "cell_type": "code",
      "metadata": {
        "id": "ohwPeQ13oxWk"
      },
      "source": [
        "model.save('/content/drive/My Drive/TDL_DATASET/Model_CNN.h5')"
      ],
      "execution_count": null,
      "outputs": []
    },
    {
      "cell_type": "code",
      "metadata": {
        "id": "LJDQeZ2zoyf2"
      },
      "source": [
        "y_pred = model.predict(X_test_tf)\n",
        "y_test1 = []\n",
        "for i in range(0,len(y_test_tf)):\n",
        "    argmax = np.argmax(y_test_tf[i,:])\n",
        "    y_test1.append(argmax)"
      ],
      "execution_count": null,
      "outputs": []
    },
    {
      "cell_type": "code",
      "metadata": {
        "id": "IK3gFJgTo93k"
      },
      "source": [
        "y_pred1 = []\n",
        "for i in range(0,len(y_test_tf)):\n",
        "    argmax = np.argmax(y_pred[i,:])\n",
        "    y_pred1.append(argmax)"
      ],
      "execution_count": null,
      "outputs": []
    },
    {
      "cell_type": "code",
      "metadata": {
        "id": "uECL1cYMpBF0",
        "colab": {
          "base_uri": "https://localhost:8080/",
          "height": 72
        },
        "outputId": "0b3032ff-6259-4f7c-cf4a-6067762ecd39"
      },
      "source": [
        "confusion_matrix(y_test1,y_pred1)"
      ],
      "execution_count": null,
      "outputs": [
        {
          "output_type": "execute_result",
          "data": {
            "text/plain": [
              "array([[110,   3,   9],\n",
              "       [ 37,  80,   5],\n",
              "       [ 40,   5,  77]])"
            ]
          },
          "metadata": {
            "tags": []
          },
          "execution_count": 18
        }
      ]
    },
    {
      "cell_type": "code",
      "metadata": {
        "id": "5VWMOgtvpIii",
        "colab": {
          "base_uri": "https://localhost:8080/",
          "height": 202
        },
        "outputId": "73a8b11a-03df-41a3-cef6-aba255af6e4a"
      },
      "source": [
        "print(classification_report(y_test1,y_pred1))"
      ],
      "execution_count": null,
      "outputs": [
        {
          "output_type": "stream",
          "text": [
            "              precision    recall  f1-score   support\n",
            "\n",
            "           0       0.59      0.90      0.71       122\n",
            "           1       0.91      0.66      0.76       122\n",
            "           2       0.85      0.63      0.72       122\n",
            "\n",
            "    accuracy                           0.73       366\n",
            "   macro avg       0.78      0.73      0.73       366\n",
            "weighted avg       0.78      0.73      0.73       366\n",
            "\n"
          ],
          "name": "stdout"
        }
      ]
    },
    {
      "cell_type": "code",
      "metadata": {
        "id": "Z6hzpv_KqBLP"
      },
      "source": [
        "MFCC_array_t = np.load('/content/drive/My Drive/TDL_DATASET/MFCC_data_t_large.npy').astype(np.float32)"
      ],
      "execution_count": null,
      "outputs": []
    },
    {
      "cell_type": "code",
      "metadata": {
        "id": "WqVPiokdqRDO"
      },
      "source": [
        "MFCC_array_t = MFCC_array_t.reshape(-1,1000,40,1)"
      ],
      "execution_count": null,
      "outputs": []
    },
    {
      "cell_type": "code",
      "metadata": {
        "id": "-pgtqrLxqYg5"
      },
      "source": [
        "predictions = model.predict(MFCC_array_t)"
      ],
      "execution_count": null,
      "outputs": []
    },
    {
      "cell_type": "code",
      "metadata": {
        "id": "rL5JGYqLqZxC",
        "colab": {
          "base_uri": "https://localhost:8080/",
          "height": 146
        },
        "outputId": "67b16f07-9db0-4336-bb72-a7a42ec5155c"
      },
      "source": [
        "predictions"
      ],
      "execution_count": null,
      "outputs": [
        {
          "output_type": "execute_result",
          "data": {
            "text/plain": [
              "array([[9.7085518e-01, 2.6281331e-02, 2.8634861e-03],\n",
              "       [9.5298678e-01, 4.7007684e-02, 5.5580990e-06],\n",
              "       [9.9807811e-01, 1.3293664e-03, 5.9253076e-04],\n",
              "       ...,\n",
              "       [1.8864377e-04, 1.5700872e-09, 9.9981135e-01],\n",
              "       [1.9976765e-06, 2.6910028e-11, 9.9999797e-01],\n",
              "       [9.2108892e-03, 1.2477577e-06, 9.9078780e-01]], dtype=float32)"
            ]
          },
          "metadata": {
            "tags": []
          },
          "execution_count": 23
        }
      ]
    },
    {
      "cell_type": "code",
      "metadata": {
        "id": "FpZrKb50qotC"
      },
      "source": [
        "y_pred1 = []\n",
        "for i in range(0,len(predictions)):\n",
        "    argmax = np.argmax(predictions[i,:])\n",
        "    y_pred1.append(argmax)"
      ],
      "execution_count": null,
      "outputs": []
    },
    {
      "cell_type": "code",
      "metadata": {
        "id": "jVk0EsTFqrm2"
      },
      "source": [
        "y_test1 = []\n",
        "language_dummies_t=np.load('/content/drive/My Drive/TDL_DATASET/language_dummy_t_large.npy').astype(np.float32)\n",
        "for i in range(0,len(language_dummies_t)):\n",
        "    argmax = np.argmax(language_dummies_t[i,:])\n",
        "    y_test1.append(argmax)"
      ],
      "execution_count": null,
      "outputs": []
    },
    {
      "cell_type": "code",
      "metadata": {
        "id": "aBuTHmZFqxNe",
        "colab": {
          "base_uri": "https://localhost:8080/",
          "height": 72
        },
        "outputId": "d6af1173-7765-4ff7-d4e1-4578f03100ba"
      },
      "source": [
        "confusion_matrix(y_test1,y_pred1)"
      ],
      "execution_count": null,
      "outputs": [
        {
          "output_type": "execute_result",
          "data": {
            "text/plain": [
              "array([[155,  21,   4],\n",
              "       [ 72,  67,  41],\n",
              "       [ 30,  12, 138]])"
            ]
          },
          "metadata": {
            "tags": []
          },
          "execution_count": 26
        }
      ]
    },
    {
      "cell_type": "code",
      "metadata": {
        "id": "Uu3G0A69rQpW",
        "colab": {
          "base_uri": "https://localhost:8080/",
          "height": 202
        },
        "outputId": "7b7e6f50-b68c-46dd-8211-36352c258005"
      },
      "source": [
        "\n",
        "\n",
        "print(classification_report(y_test1,y_pred1))\n",
        "\n"
      ],
      "execution_count": null,
      "outputs": [
        {
          "output_type": "stream",
          "text": [
            "              precision    recall  f1-score   support\n",
            "\n",
            "           0       0.60      0.86      0.71       180\n",
            "           1       0.67      0.37      0.48       180\n",
            "           2       0.75      0.77      0.76       180\n",
            "\n",
            "    accuracy                           0.67       540\n",
            "   macro avg       0.68      0.67      0.65       540\n",
            "weighted avg       0.68      0.67      0.65       540\n",
            "\n"
          ],
          "name": "stdout"
        }
      ]
    },
    {
      "cell_type": "code",
      "metadata": {
        "id": "jHqlDExcgOoo"
      },
      "source": [
        "def generate_fb_and_mfcc(signal, sample_rate):\n",
        "    # Pre-Emphasis\n",
        "    pre_emphasis = 0.97\n",
        "    emphasized_signal = np.append(signal[0],signal[1:] - pre_emphasis * signal[:-1])\n",
        "    # Framing\n",
        "    frame_size = 0.025\n",
        "    frame_stride = 0.01\n",
        "    # Convert from seconds to samples\n",
        "    frame_length, frame_step = (\n",
        "        frame_size * sample_rate,\n",
        "        frame_stride * sample_rate)\n",
        "    signal_length = len(emphasized_signal)\n",
        "    frame_length = int(round(frame_length))\n",
        "    frame_step = int(round(frame_step))\n",
        "    # Make sure that we have at least 1 frame\n",
        "    num_frames = int(\n",
        "        np.ceil(float(np.abs(signal_length - frame_length)) / frame_step))\n",
        "\n",
        "    pad_signal_length = num_frames * frame_step + frame_length\n",
        "    z = np.zeros((pad_signal_length - signal_length))\n",
        "\n",
        "    # Pad Signal to make sure that all frames have equal\n",
        "    # number of samples without truncating any samples\n",
        "    # from the original signal\n",
        "    pad_signal = np.append(emphasized_signal, z)\n",
        "\n",
        "    indices = (\n",
        "        np.tile(np.arange(0, frame_length), (num_frames, 1)) +\n",
        "        np.tile(\n",
        "            np.arange(0, num_frames * frame_step, frame_step),\n",
        "            (frame_length, 1)\n",
        "        ).T\n",
        "    )\n",
        "    frames = pad_signal[indices.astype(np.int32, copy=False)]\n",
        "\n",
        "    # Window\n",
        "    frames *= np.hamming(frame_length)\n",
        "\n",
        "    # Fourier-Transform and Power Spectrum\n",
        "    NFFT = 512\n",
        "\n",
        "    # Magnitude of the FFT\n",
        "    mag_frames = np.absolute(np.fft.rfft(frames, NFFT))\n",
        "\n",
        "    # Power Spectrum\n",
        "    pow_frames = ((1.0 / NFFT) * ((mag_frames) ** 2))\n",
        "\n",
        "    # Filter Banks\n",
        "    nfilt = 40\n",
        "\n",
        "    low_freq_mel = 0\n",
        "\n",
        "    # Convert Hz to Mel\n",
        "    high_freq_mel = (2595 * np.log10(1 + (sample_rate / 2) / 700))\n",
        "\n",
        "    # Equally spaced in Mel scale\n",
        "    mel_points = np.linspace(low_freq_mel, high_freq_mel, nfilt + 2)\n",
        "\n",
        "    # Convert Mel to Hz\n",
        "    hz_points = (700 * (10**(mel_points / 2595) - 1))\n",
        "    bin = np.floor((NFFT + 1) * hz_points / sample_rate)\n",
        "\n",
        "    fbank = np.zeros((nfilt, int(np.floor(NFFT / 2 + 1))))\n",
        "    for m in range(1, nfilt + 1):\n",
        "        f_m_minus = int(bin[m - 1])   \n",
        "        f_m = int(bin[m])             \n",
        "        f_m_plus = int(bin[m + 1])    \n",
        "\n",
        "        for k in range(f_m_minus, f_m):\n",
        "            fbank[m - 1, k] = (k - bin[m - 1]) / (bin[m] - bin[m - 1])\n",
        "        for k in range(f_m, f_m_plus):\n",
        "            fbank[m - 1, k] = (bin[m + 1] - k) / (bin[m + 1] - bin[m])\n",
        "    filter_banks = np.dot(pow_frames, fbank.T)\n",
        "\n",
        "    # Numerical Stability\n",
        "    filter_banks = np.where(\n",
        "        filter_banks == 0,\n",
        "        np.finfo(float).eps,\n",
        "        filter_banks)\n",
        "\n",
        "    filter_banks = 20 * np.log10(filter_banks)\n",
        "\n",
        "    return filter_banks"
      ],
      "execution_count": null,
      "outputs": []
    },
    {
      "cell_type": "code",
      "metadata": {
        "id": "QWfBSV_hgSP9"
      },
      "source": [
        "def predict(file_name,model):\n",
        "  flac, samplerate = sf.read(\"/content/drive/My Drive/TDL_DATASET/\"+file_name)\n",
        "  series=flac\n",
        "  length=samplerate\n",
        "  MFCC = generate_fb_and_mfcc(series,length)\n",
        "  sc = StandardScaler()\n",
        "  MFCC_sc = sc.fit_transform(MFCC)\n",
        "  data=MFCC_sc.reshape(-1,1000,40,1)\n",
        "  return np.argmax(model.predict(data))"
      ],
      "execution_count": null,
      "outputs": []
    },
    {
      "cell_type": "code",
      "metadata": {
        "id": "tmriS87P-V_G"
      },
      "source": [
        "model.load_weights(\"/content/drive/My Drive/TDL_DATASET/Model_CNN.h5\")"
      ],
      "execution_count": null,
      "outputs": []
    },
    {
      "cell_type": "code",
      "metadata": {
        "id": "MfRBEWUodUdf",
        "colab": {
          "base_uri": "https://localhost:8080/",
          "height": 36
        },
        "outputId": "e883dcfb-380c-4b44-90d5-f25ffcc2527c"
      },
      "source": [
        "np.argmax(model.predict(X_test_tf)[0])"
      ],
      "execution_count": null,
      "outputs": [
        {
          "output_type": "execute_result",
          "data": {
            "text/plain": [
              "2"
            ]
          },
          "metadata": {
            "tags": []
          },
          "execution_count": 26
        }
      ]
    },
    {
      "cell_type": "code",
      "metadata": {
        "id": "4cLE5LzYfIx9",
        "colab": {
          "base_uri": "https://localhost:8080/",
          "height": 36
        },
        "outputId": "74857065-8a4b-4c6b-ba7a-1a5dbdd9e7e7"
      },
      "source": [
        "language_dummies[0]"
      ],
      "execution_count": null,
      "outputs": [
        {
          "output_type": "execute_result",
          "data": {
            "text/plain": [
              "array([0., 1., 0.], dtype=float32)"
            ]
          },
          "metadata": {
            "tags": []
          },
          "execution_count": 27
        }
      ]
    },
    {
      "cell_type": "code",
      "metadata": {
        "id": "5jUPT_logAEa"
      },
      "source": [
        "files=[ele for ele in os.listdir(\"/content/drive/My Drive/TDL_DATASET\")  if ele.endswith(\".flac\")]"
      ],
      "execution_count": null,
      "outputs": []
    },
    {
      "cell_type": "code",
      "metadata": {
        "id": "ye9KAA7TiifC",
        "colab": {
          "base_uri": "https://localhost:8080/",
          "height": 128
        },
        "outputId": "f586f234-13a5-4d49-ae35-fd8276101fc5"
      },
      "source": [
        "files"
      ],
      "execution_count": null,
      "outputs": [
        {
          "output_type": "execute_result",
          "data": {
            "text/plain": [
              "['en_f_67a0cba10d171b24039a79faa1d4d603.fragment77.flac',\n",
              " 'es_f_50298ab71aaba8508ebeef49d853df11.fragment86.flac',\n",
              " 'en_m_b74b2bf2af570393cae91f4ed89cece7.fragment70.flac',\n",
              " 'es_m_08111ce8d6a7ebc6cd2c27e62a3d98f0.fragment15.flac',\n",
              " 'de_f_63f5b79c76cf5a1a4bbd1c40f54b166e.fragment1.flac',\n",
              " 'de_m_923551d571cc437382d0294dda2dd0aa.fragment21.flac']"
            ]
          },
          "metadata": {
            "tags": []
          },
          "execution_count": 29
        }
      ]
    },
    {
      "cell_type": "code",
      "metadata": {
        "id": "JECc_gxeijPd",
        "colab": {
          "base_uri": "https://localhost:8080/",
          "height": 128
        },
        "outputId": "ca62aec2-1d09-4208-8247-4e81871a4246"
      },
      "source": [
        "#english [0,1,0]\n",
        "#spanish  [0,0,1]\n",
        "#german   [1,0,0]\n",
        "for ele in files:\n",
        "  print(predict(ele,model))"
      ],
      "execution_count": null,
      "outputs": [
        {
          "output_type": "stream",
          "text": [
            "0\n",
            "1\n",
            "1\n",
            "2\n",
            "0\n",
            "0\n"
          ],
          "name": "stdout"
        }
      ]
    },
    {
      "cell_type": "code",
      "metadata": {
        "id": "3q7MPnALi-hM"
      },
      "source": [
        ""
      ],
      "execution_count": null,
      "outputs": []
    }
  ]
}